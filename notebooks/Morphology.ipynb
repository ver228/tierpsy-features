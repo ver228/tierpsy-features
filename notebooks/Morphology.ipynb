{
 "cells": [
  {
   "cell_type": "code",
   "execution_count": 1,
   "metadata": {},
   "outputs": [
    {
     "name": "stdout",
     "output_type": "stream",
     "text": [
      "(7505, 98, 2)\n"
     ]
    }
   ],
   "source": [
    "%matplotlib inline\n",
    "\n",
    "import seaborn as sns\n",
    "import numpy as np\n",
    "import numba\n",
    "\n",
    "import matplotlib.pylab as plt\n",
    "import matplotlib.cm as cm\n",
    "from IPython.display import HTML\n",
    "\n",
    "from tierpsy_features.velocities import get_velocity, get_relative_velocities, animate_velocity, \\\n",
    "_h_segment_position, _h_get_velocity\n",
    "\n",
    "data = np.load('./data/worm_example.npz')\n",
    "\n",
    "skeletons = data['skeleton']\n",
    "dorsal_contour = data['dorsal_contour']\n",
    "ventral_contour = data['ventral_contour']\n",
    "\n",
    "contours = np.concatenate((dorsal_contour, ventral_contour[:, ::-1, :]), axis=1)\n",
    "widths = data['widths']\n",
    "\n",
    "print(contours.shape)"
   ]
  },
  {
   "cell_type": "code",
   "execution_count": 3,
   "metadata": {},
   "outputs": [
    {
     "data": {
      "text/plain": [
       "<matplotlib.legend.Legend at 0x111e45c18>"
      ]
     },
     "execution_count": 3,
     "metadata": {},
     "output_type": "execute_result"
    },
    {
     "data": {
      "image/png": "[encoded data removed]",
      "text/plain": [
       "<Figure size 432x288 with 1 Axes>"
      ]
     },
     "metadata": {},
     "output_type": "display_data"
    }
   ],
   "source": [
    "\n",
    "#NOT YET INCOORPORATED\n",
    "\n",
    "#maybe i should incoorporate this to the main code...\n",
    "def get_width_at_skel_point(skeleton, contour_side1, contour_side2, skel_ind):\n",
    "    \n",
    "    if np.any(np.isnan(skeleton)):\n",
    "        return np.nan\n",
    "    \n",
    "    # modified from https://en.wikipedia.org/wiki/Distance_from_a_point_to_a_line\n",
    "    dR = skeleton[skel_ind + 1] - skeleton[skel_ind - 1]\n",
    "    a = -dR[0]\n",
    "    b = +dR[1]\n",
    "    c = b * skeleton[skel_ind, 1] - a * skeleton[skel_ind, 0]\n",
    "    \n",
    "    def _get_cnt_w(skel_p, cnt):\n",
    "        #get the perpendicular distance to the closest \n",
    "        dist2cnt = np.sum((cnt - skel_p)**2, axis=1)\n",
    "        \n",
    "        #a = M, b = -1\n",
    "        dist_perp = np.abs(a * cnt[:, 0] - b * cnt[:, 1] + c)\n",
    "\n",
    "        #plt.figure()\n",
    "        #plt.plot(dist_perp)\n",
    "\n",
    "        #get a threshold otherwise it might get a faraway point that it is closer to the parallel line\n",
    "        width_th = 4*np.min(dist2cnt)\n",
    "        good = dist2cnt <= width_th\n",
    "        cnt_ind_g = np.argmin(dist_perp[good])\n",
    "\n",
    "        cnt_ind = np.where(good)[0][cnt_ind_g]\n",
    "\n",
    "        return dist2cnt[cnt_ind], cnt_ind\n",
    "    \n",
    "    w1, cnt1_ind = _get_cnt_w(skeleton[skel_ind], contour_side1) \n",
    "    w2, cnt2_ind = _get_cnt_w(skeleton[skel_ind], contour_side2)\n",
    "    \n",
    "    return np.sqrt(w1) + np.sqrt(w2)\n",
    "\n",
    "tt = 400\n",
    "cnt_d = dorsal_contour[tt]\n",
    "cnt_v = ventral_contour[tt]\n",
    "skel = skeletons[tt]\n",
    "\n",
    "w = [get_width_at_skel_point(skel, cnt_v, cnt_d, ii) for ii in range(1, skel.shape[0]-1)]\n",
    "w = [0] + w + [0]\n",
    "\n",
    "\n",
    "plt.figure()\n",
    "plt.plot(widths[tt], label = 'old method')\n",
    "plt.plot(w, label = 'new method')\n",
    "plt.title('Width Calculation')\n",
    "plt.legend()\n"
   ]
  },
  {
   "cell_type": "code",
   "execution_count": null,
   "metadata": {},
   "outputs": [],
   "source": []
  }
 ],
 "metadata": {
  "kernelspec": {
   "display_name": "Python 3",
   "language": "python",
   "name": "python3"
  },
  "language_info": {
   "codemirror_mode": {
    "name": "ipython",
    "version": 3
   },
   "file_extension": ".py",
   "mimetype": "text/x-python",
   "name": "python",
   "nbconvert_exporter": "python",
   "pygments_lexer": "ipython3",
   "version": "3.6.4"
  }
 },
 "nbformat": 4,
 "nbformat_minor": 2
}
