{
 "cells": [
  {
   "cell_type": "code",
   "execution_count": 21,
   "metadata": {},
   "outputs": [],
   "source": [
    "%matplotlib inline\n",
    "import matplotlib.pylab as plt\n",
    "import pandas as pd\n",
    "import os\n",
    "\n",
    "from tierpsy.analysis.feat_init.smooth_skeletons_table import read_food_contour\n",
    "\n",
    "base_dir = '/Users/ajaver/OneDrive - Imperial College London/tierpsy_features/test_data/multiworm'\n",
    "\n",
    "#skeletons_file = os.path.join(base_dir, 'N2_worms10_CSCD563206_10_Set9_Pos4_Ch6_25072017_214236_skeletons.hdf5')\n",
    "skeletons_file = os.path.join(base_dir, 'N2_worms10_CSCD438313_10_Set12_Pos5_Ch4_25072017_223347_skeletons.hdf5')\n",
    "#skeletons_file = os.path.join(base_dir, 'MY23_worms5_food1-10_Set4_Pos5_Ch4_29062017_140148_skeletons.hdf5')\n",
    "\n",
    "features_file = skeletons_file.replace('_skeletons.hdf5', '_featuresN.hdf5')\n",
    "food_cnt = read_food_contour(skeletons_file)\n",
    "\n",
    "with pd.HDFStore(features_file, 'r') as fid:\n",
    "    blob_features = fid['/blob_features']\n",
    "    trajectories_data = fid['/trajectories_data']\n",
    "    timeseries_features = fid['/timeseries_features']\n",
    "    "
   ]
  },
  {
   "cell_type": "code",
   "execution_count": 19,
   "metadata": {},
   "outputs": [
    {
     "name": "stdout",
     "output_type": "stream",
     "text": [
      "Index(['timestamp_raw', 'timestamp_time', 'worm_index_joined', 'coord_x',\n",
      "       'coord_y', 'threshold', 'roi_size', 'area', 'frame_number',\n",
      "       'was_skeletonized', 'skeleton_id', 'old_trajectory_data_index'],\n",
      "      dtype='object')\n",
      "Index(['worm_index', 'timestamp', 'speed', 'angular_velocity',\n",
      "       'relative_speed_midbody', 'relative_radial_velocity_head_tip',\n",
      "       'relative_angular_velocity_head_tip', 'relative_radial_velocity_neck',\n",
      "       'relative_angular_velocity_neck', 'relative_radial_velocity_hips',\n",
      "       'relative_angular_velocity_hips', 'relative_radial_velocity_tail_tip',\n",
      "       'relative_angular_velocity_tail_tip', 'length', 'area',\n",
      "       'area_length_ratio', 'width_length_ratio', 'width_head_base',\n",
      "       'width_midbody', 'width_tail_base', 'head_tail_distance', 'quirkiness',\n",
      "       'major_axis', 'minor_axis', 'eigen_projection_1', 'eigen_projection_2',\n",
      "       'eigen_projection_3', 'eigen_projection_4', 'eigen_projection_5',\n",
      "       'eigen_projection_6', 'eigen_projection_7', 'curvature_head',\n",
      "       'curvature_hips', 'curvature_midbody', 'curvature_neck',\n",
      "       'curvature_tail', 'orientation_food_edge', 'dist_from_food_edge'],\n",
      "      dtype='object')\n",
      "Index(['coord_x', 'coord_y', 'area', 'perimeter', 'box_length', 'box_width',\n",
      "       'quirkiness', 'compactness', 'box_orientation', 'solidity',\n",
      "       'intensity_mean', 'intensity_std', 'hu0', 'hu1', 'hu2', 'hu3', 'hu4',\n",
      "       'hu5', 'hu6'],\n",
      "      dtype='object')\n"
     ]
    }
   ],
   "source": [
    "print(trajectories_data.columns)\n",
    "print(timeseries_features.columns)\n",
    "print(blob_features.columns)\n"
   ]
  },
  {
   "cell_type": "code",
   "execution_count": 24,
   "metadata": {},
   "outputs": [
    {
     "data": {
      "text/plain": [
       "(2000.0, 20000.0, 2000.0, 18000.0)"
      ]
     },
     "execution_count": 24,
     "metadata": {},
     "output_type": "execute_result"
    },
    {
     "data": {
      "image/png": "[encoded data removed]",
      "text/plain": [
       "<matplotlib.figure.Figure at 0x11bab63c8>"
      ]
     },
     "metadata": {},
     "output_type": "display_data"
    }
   ],
   "source": [
    "plt.plot(blob_features['coord_x'], blob_features['coord_y'], '.')\n",
    "plt.axis('equal')"
   ]
  },
  {
   "cell_type": "code",
   "execution_count": null,
   "metadata": {
    "collapsed": true
   },
   "outputs": [],
   "source": []
  }
 ],
 "metadata": {
  "kernelspec": {
   "display_name": "Python 3",
   "language": "python",
   "name": "python3"
  },
  "language_info": {
   "codemirror_mode": {
    "name": "ipython",
    "version": 3
   },
   "file_extension": ".py",
   "mimetype": "text/x-python",
   "name": "python",
   "nbconvert_exporter": "python",
   "pygments_lexer": "ipython3",
   "version": "3.6.1"
  }
 },
 "nbformat": 4,
 "nbformat_minor": 2
}
