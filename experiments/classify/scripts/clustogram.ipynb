{
 "cells": [
  {
   "cell_type": "code",
   "execution_count": 7,
   "metadata": {},
   "outputs": [
    {
     "name": "stdout",
     "output_type": "stream",
     "text": [
      "Using matplotlib backend: Qt5Agg\n",
      "OW\n",
      "tierpsy\n"
     ]
    }
   ],
   "source": [
    "%matplotlib\n",
    "import os\n",
    "import numpy as np\n",
    "import pandas as pd\n",
    "import seaborn as sns\n",
    "from compare_ftests import col2ignore\n",
    "\n",
    "if __name__ == '__main__':\n",
    "    \n",
    "    #save_dir = '/Users/ajaver/OneDrive - Imperial College London/classify_strains/manual_features/SWDB/'\n",
    "    save_dir = '../data/SWDB'\n",
    "    feat_files = {\n",
    "            'OW' : 'F0.025_ow_features_old_SWDB.csv',\n",
    "            'tierpsy' :'F0.025_tierpsy_features_SWDB.csv'\n",
    "            }\n",
    "    #%%\n",
    "    col2ignore_r = col2ignore + ['strain_id', 'set_type']\n",
    "    \n",
    "    for db_name, bn in feat_files.items():\n",
    "        print(db_name)\n",
    "        fname = os.path.join(save_dir, bn)\n",
    "        feats = pd.read_csv(fname)\n",
    "        \n",
    "        ss = np.sort(feats['strain'].unique())\n",
    "        s_dict = {s:ii for ii,s in enumerate(ss)}\n",
    "        feats['strain_id'] = feats['strain'].map(s_dict)\n",
    "        \n",
    "        \n",
    "        col_val = [x for x in feats.columns if x not in col2ignore_r]\n",
    "        \n",
    "        dd = feats[col_val]\n",
    "        z = (dd-dd.mean())/(dd.std())\n",
    "        feats[col_val] = z\n",
    "        \n",
    "        #clustermap\n",
    "        dat = feats.groupby('strain').agg('median')\n",
    "        col_val = [x for x in dat.columns if not x in col2ignore_r]\n",
    "        dat = dat[col_val]\n",
    "        sns.clustermap(dat)"
   ]
  },
  {
   "cell_type": "code",
   "execution_count": 2,
   "metadata": {},
   "outputs": [],
   "source": []
  },
  {
   "cell_type": "code",
   "execution_count": null,
   "metadata": {},
   "outputs": [],
   "source": []
  }
 ],
 "metadata": {
  "kernelspec": {
   "display_name": "Python 3",
   "language": "python",
   "name": "python3"
  },
  "language_info": {
   "codemirror_mode": {
    "name": "ipython",
    "version": 3
   },
   "file_extension": ".py",
   "mimetype": "text/x-python",
   "name": "python",
   "nbconvert_exporter": "python",
   "pygments_lexer": "ipython3",
   "version": "3.6.2"
  }
 },
 "nbformat": 4,
 "nbformat_minor": 2
}
